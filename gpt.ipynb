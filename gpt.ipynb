{
 "cells": [
  {
   "cell_type": "markdown",
   "metadata": {},
   "source": [
    "# fine-tuning"
   ]
  },
  {
   "cell_type": "code",
   "execution_count": null,
   "metadata": {},
   "outputs": [],
   "source": [
    "# !export OPENAI_API_KEY=\"your_api_key\"\n",
    "# !openai api files.create -f preprocessing/gap/gap-development_finetune.jsonl -p fine-tune\n",
    "# !openai api files.list #업로드된 파일"
   ]
  },
  {
   "cell_type": "code",
   "execution_count": null,
   "metadata": {},
   "outputs": [],
   "source": [
    "from openai import OpenAI\n",
    "api_key=\"your_api_key\"\n",
    "client = OpenAI(api_key=api_key)\n",
    "jobs = client.fine_tuning.jobs.list(limit=10)\n",
    "for job in jobs:\n",
    "    print(job.id, job.status)  # Job ID와 상태 출력"
   ]
  },
  {
   "cell_type": "code",
   "execution_count": null,
   "metadata": {},
   "outputs": [],
   "source": [
    "# !openai api files.list\n",
    "# response = client.files.delete(\"file-ID\") #업로드된 파일 지우기\n",
    "# print(response)"
   ]
  },
  {
   "cell_type": "code",
   "execution_count": null,
   "metadata": {},
   "outputs": [],
   "source": [
    "# ✅ Fine-tuning 작업 생성 함수\n",
    "def create_fine_tuning_job(training_file_id, validation_file_id, model_name, n_epochs):\n",
    "    response = client.fine_tuning.jobs.create(\n",
    "        training_file=training_file_id,\n",
    "        validation_file=validation_file_id,\n",
    "        model=model_name,\n",
    "        hyperparameters={\"n_epochs\": n_epochs})\n",
    "    print(\"🔥 Fine-tuning 작업 생성 완료:\", response.id)\n",
    "    return response\n",
    "\n",
    "# ✅ Fine-tuning 작업 상태 조회 함수\n",
    "def get_fine_tuning_status(job_id):\n",
    "    job = client.fine_tuning.jobs.retrieve(job_id)\n",
    "    if job.fine_tuned_model:\n",
    "        print(\"🎉 Fine-tuned 모델 ID:\", job.fine_tuned_model)  # 모델 ID\n",
    "    else:\n",
    "        print(\"⏳ 아직 완료되지 않음. 현재 상태:\", job.status)\n",
    "    return job"
   ]
  },
  {
   "cell_type": "markdown",
   "metadata": {},
   "source": [
    "학습코드"
   ]
  },
  {
   "cell_type": "code",
   "execution_count": null,
   "metadata": {},
   "outputs": [],
   "source": [
    "training_file_id = \"file-WtPHNZMAsF6ejUA6vGMjfT\" # gap-dev_npe_finetune.jsonl\n",
    "validation_file_id = \"file-BtBFBVctPbQHzjtqYmEVzh\" #gap-validation_finetune.jsonl\n",
    "model_name=\"gpt-4o-mini-2024-07-18\"\n",
    "n_epochs=10\n",
    "job_response = create_fine_tuning_job(training_file_id, validation_file_id,model_name, n_epochs) #요금 청구됨\n",
    "job_id = job_response.id \n"
   ]
  },
  {
   "cell_type": "code",
   "execution_count": null,
   "metadata": {},
   "outputs": [],
   "source": [
    "# job_id=\"ftjob-qt49bcqfHI6RyUJijj6oZUjN\"\n",
    "# status = get_fine_tuning_status(job_id)"
   ]
  },
  {
   "cell_type": "markdown",
   "metadata": {},
   "source": [
    "(학습완료) train: gap-development_finetune(file-SmkAaMsznDukRteEbgmhXb) / val: gap-validation_finetune(file-BtBFBVctPbQHzjtqYmEVzh)\n",
    "    epochs=10 /job_id ftjob-Z0GkBZJgNcwHLwzpWbSYpcEF / ft:gpt-4o-mini-2024-07-18:skku::BAXp8p7n\n",
    "\n",
    "\n",
    "(학습완료) train: gap-dev_one_finetune(file-SxrjhFV1QbQr79CitTrXye) / val: gap-validation_finetune\n",
    "    epochs=10 / job_id ftjob-u7xkEgw7DOopYjrWM4JzABIi / ft:gpt-4o-mini-2024-07-18:skku::BAa7KB6E\n",
    "\n",
    "\n",
    "(학습완료) train: gap-dev_npe_finetune(file-WtPHNZMAsF6ejUA6vGMjfT) / val: gap-validation_finetune\n",
    "    epochs=10 / job_id ftjob-qt49bcqfHI6RyUJijj6oZUjN / ft:gpt-4o-mini-2024-07-18:skku::BAbIEGYf"
   ]
  },
  {
   "cell_type": "markdown",
   "metadata": {},
   "source": [
    "# inference"
   ]
  },
  {
   "cell_type": "code",
   "execution_count": null,
   "metadata": {},
   "outputs": [],
   "source": [
    "from openai import OpenAI\n",
    "import json\n",
    "import pandas as pd\n",
    "import os\n",
    "import time\n",
    "\n",
    "api_key=\"your_api_key\"\n",
    "client = OpenAI(api_key=api_key)"
   ]
  },
  {
   "cell_type": "markdown",
   "metadata": {},
   "source": [
    "fine tuning모델 적용시"
   ]
  },
  {
   "cell_type": "code",
   "execution_count": null,
   "metadata": {},
   "outputs": [],
   "source": [
    "# model_id = \"ft:gpt-4o-mini-2024-07-18:skku::BAa7KB6E\" #fine_tuned_model_id \n",
    "model_id= \"gpt-4o-mini\""
   ]
  },
  {
   "cell_type": "code",
   "execution_count": null,
   "metadata": {},
   "outputs": [],
   "source": [
    "# ✅ Fine-tuned 모델 API 호출 함수\n",
    "def query_gpt_mini(prompt):\n",
    "    response = client.chat.completions.create(\n",
    "        model=model_id,\n",
    "        messages=[{\"role\": \"user\", \"content\": prompt}]\n",
    "    )\n",
    "    return response.choices[0].message.content\n",
    "\n",
    "\n",
    "# ✅ API 호출 및 재시도 함수\n",
    "def query_with_retry(prompt, max_retries=5, wait_time=5):\n",
    "    retries = 0\n",
    "    while retries < max_retries:\n",
    "        try:\n",
    "            response = query_gpt_mini(prompt)\n",
    "            if response.strip().upper() != \"API FAILED\":\n",
    "                return response  # 정상 응답 반환\n",
    "        except Exception as e:\n",
    "            print(f\"❌ API 호출 실패: {e}\")\n",
    "            if \"rate_limit_exceeded\" in str(e):\n",
    "                print(f\"⚠️ [RateLimitError] 요청 제한 초과. {wait_time}초 대기 후 재시도... ({retries+1}/{max_retries})\")\n",
    "                #time.sleep(wait_time)\n",
    "            else:\n",
    "                break  # 다른 에러 시 중단\n",
    "        retries += 1\n",
    "    return \"API FAILED\"\n"
   ]
  },
  {
   "cell_type": "code",
   "execution_count": null,
   "metadata": {},
   "outputs": [],
   "source": [
    "name_list = [\"wsc\"]  # 사용할 데이터셋 이름\n",
    "\n",
    "# ✅ 메인 실행\n",
    "for name in name_list:\n",
    "    json_file_path = os.path.join(os.getcwd(), \"preprocessing\", \"test\",\"wsc\", f\"{name}.json\")\n",
    "    csv_file_path = os.path.join(os.getcwd(), \"output\", \"zero\", \"GPT-zero\", f\"{name}.csv\")  # 저장 파일명 수정\n",
    "\n",
    "    # JSON 데이터 로드\n",
    "    with open(json_file_path, \"r\", encoding=\"utf-8\") as json_file:\n",
    "        test_data = json.load(json_file)\n",
    "\n",
    "    # 이전에 저장된 데이터 불러오기 (중복 처리 방지)\n",
    "    if os.path.exists(csv_file_path):\n",
    "        df_existing = pd.read_csv(csv_file_path, encoding=\"utf-8\")\n",
    "        processed_ids = set(df_existing[\"text_id\"].tolist())\n",
    "        print(f\"🔄 기존 데이터 {len(processed_ids)}개 로드 완료. 이어서 진행.\")\n",
    "    else:\n",
    "        df_existing = pd.DataFrame()\n",
    "        processed_ids = set()\n",
    "\n",
    "    # 결과 저장 리스트\n",
    "    results = []\n",
    "\n",
    "    for data in test_data:\n",
    "        if data[\"text_id\"] in processed_ids:\n",
    "            continue  # 이미 처리된 경우 건너뜀\n",
    "\n",
    "        # ✅ 프롬프트 생성\n",
    "        prompt = f'''Question: In the sentence \"{data[\"text\"]}\", what does \"{data[\"target\"]}\" refer to?\n",
    "Options:\n",
    "(A) {data[\"options\"][\"A\"]}\n",
    "(B) {data[\"options\"][\"B\"]}\n",
    "\n",
    "Answer only with \"A\" if (A) is correct, \"B\" if (B) is correct, or \"Neither\" if none of them are correct. Do not provide explanations.\n",
    "Answer:'''\n",
    "\n",
    "        # ✅ wsc 프롬프트\n",
    "#         prompt = f'''Question: In the sentence \"{data[\"text\"]}\", what should replace \"{data[\"target\"]}\"?\n",
    "# Options:\n",
    "# (A) {data[\"options\"][\"A\"]}\n",
    "# (B) {data[\"options\"][\"B\"]}\n",
    "# Answer only with \"A\" if (A) is correct, \"B\" if (B) is correct, or \"Neither\" if none of them are correct. Do not provide explanations.\n",
    "# Answer:'''\n",
    "\n",
    "\n",
    "        # ✅ API 호출 (재시도 포함)\n",
    "        while True:\n",
    "            gpt_response = query_with_retry(prompt)\n",
    "            if gpt_response.strip().upper() != \"API FAILED\":\n",
    "                break  # 정상 응답이면 탈출\n",
    "            print(f\"⚠️ [API FAILED] text_id: {data['text_id']} - 20초 후 재시도\")\n",
    "            #time.sleep(10)\n",
    "\n",
    "        # ✅ 정답 비교\n",
    "        correct = (gpt_response.strip().upper() == data[\"answer\"].strip().upper())\n",
    "\n",
    "        # ✅ 결과 저장\n",
    "        result = {\n",
    "            \"text_id\": data[\"text_id\"],\n",
    "            \"text\": data[\"text\"],\n",
    "            \"target\": data[\"target\"],\n",
    "            \"expected_answer\": data[\"answer\"].strip().upper(),\n",
    "            \"gpt_answer\": gpt_response.strip().upper(),\n",
    "            \"correct\": correct\n",
    "        }\n",
    "        results.append(result)\n",
    "\n",
    "        # ✅ 콘솔 출력\n",
    "        print(f\"[{name}] text_id: {data['text_id']}, gpt_answer: {gpt_response.strip().upper()}, True answer: {data['answer'].strip().upper()}\")\n",
    "\n",
    "        # ✅ 실시간 CSV 저장 (중단 대비)\n",
    "        df_temp = pd.DataFrame([result])\n",
    "        df_temp.to_csv(csv_file_path, mode=\"a\", index=False, header=not os.path.exists(csv_file_path), encoding=\"utf-8\")\n",
    "\n",
    "        # 속도 조절\n",
    "        #time.sleep(5)  # 요청 제한 방지 (조정 가능)\n",
    "\n",
    "    print(f\"✅ [{name}] 모든 데이터 처리 완료: {csv_file_path}\")"
   ]
  }
 ],
 "metadata": {
  "kernelspec": {
   "display_name": "base",
   "language": "python",
   "name": "python3"
  },
  "language_info": {
   "codemirror_mode": {
    "name": "ipython",
    "version": 3
   },
   "file_extension": ".py",
   "mimetype": "text/x-python",
   "name": "python",
   "nbconvert_exporter": "python",
   "pygments_lexer": "ipython3",
   "version": "3.10.14"
  }
 },
 "nbformat": 4,
 "nbformat_minor": 2
}
