{
 "cells": [
  {
   "cell_type": "markdown",
   "metadata": {},
   "source": [
    "# convert xlsx -> json"
   ]
  },
  {
   "cell_type": "code",
   "execution_count": null,
   "metadata": {},
   "outputs": [],
   "source": [
    "# 1_one\n",
    "\n",
    "import pandas as pd\n",
    "import json\n",
    "import os\n",
    "\n",
    "# .xlsx 파일 불러오기\n",
    "file_path = os.path.join(os.getcwd(),\"data\",\"1_one\", \"Number_factor_AO_sub-corpus.xlsx\")\n",
    "json_file_path = os.path.join(os.getcwd(), \"preprocessing\", \"1_one\", \"Number_factor_AO_sub-corpus.json\")\n",
    "\n",
    "df = pd.read_excel(file_path)\n",
    "\n",
    "# 필요한 열만 선택 (1, 2, 3, 7, 10, 13, 14)\n",
    "df_selected = df.iloc[:, [0, 1, 2, 6, 9, 12, 13]]  # Pandas의 iloc을 사용하여 열 선택\n",
    "\n",
    "# 열 이름을 적절한 JSON 키로 매핑\n",
    "df_selected.columns = [\"text_id\", \"text\", \"anaphor\", \"A\", \"B\", \"A_coref\", \"B_coref\"]\n",
    "\n",
    "# JSON 형식으로 변환\n",
    "data_list = []\n",
    "for index, row in df_selected.iterrows():\n",
    "    # A_coref와 B_coref가 모두 False인 경우 \"Neither\" 저장\n",
    "    if row[\"A_coref\"] == False and row[\"B_coref\"] == False:\n",
    "        answer = \"Neither\"\n",
    "    elif row[\"A_coref\"] == True:\n",
    "        answer = \"A\"\n",
    "    else:\n",
    "        answer = \"B\"\n",
    "\n",
    "    data_list.append({\n",
    "        \"text_id\": row[\"text_id\"],  # 문장 ID\n",
    "        \"text\": row[\"text\"],  # 전체 문장\n",
    "        \"anaphor\": row[\"anaphor\"],  # anaphoric one/ones\n",
    "        \"options\": {\n",
    "            \"A\": row[\"A\"],  # 선행사 후보 A\n",
    "            \"B\": row[\"B\"]   # 선행사 후보 B\n",
    "        },\n",
    "        \"answer\": answer  # \"A\", \"B\", \"Neither\" 중 하나\n",
    "    })\n",
    "\n",
    "# JSON 파일로 저장\n",
    "with open(json_file_path, \"w\", encoding=\"utf-8\") as json_file:\n",
    "    json.dump(data_list, json_file, indent=4, ensure_ascii=False)\n",
    "\n",
    "print(f\"✅ JSON 변환 완료: {json_file_path}\")"
   ]
  },
  {
   "cell_type": "code",
   "execution_count": null,
   "metadata": {},
   "outputs": [],
   "source": [
    "# 2_npe\n",
    "import pandas as pd\n",
    "import json\n",
    "import os\n",
    "\n",
    "# .xlsx 파일 불러오기\n",
    "file_path = os.path.join(os.getcwd(),\"data\",\"2_npe\", \"General_NPE_corpus.xlsx\")\n",
    "json_file_path = os.path.join(os.getcwd(),\"preprocessing\",\"2_npe\", \"General_NPE_corpus.json\")\n",
    "df = pd.read_excel(file_path)\n",
    "\n",
    "# 필요한 열만 선택 (1, 2, 3, 7, 10, 13, 14)\n",
    "df_selected = df.iloc[:, [0, 1, 2, 5, 8, 11, 12]]  # Pandas의 iloc을 사용하여 열 선택\n",
    "\n",
    "# 열 이름을 적절한 JSON 키로 매핑\n",
    "df_selected.columns = [\"text_id\", \"text\", \"licensor\", \"A\", \"B\", \"A_coref\",\"B_coref\"]\n",
    "\n",
    "# JSON 형식으로 변환\n",
    "data_list = []\n",
    "for index, row in df_selected.iterrows():\n",
    "    # A_coref와 B_coref가 모두 False인 경우 \"Neither\" 저장\n",
    "    if row[\"A_coref\"] == False and row[\"B_coref\"] == False:\n",
    "        answer = \"Neither\"\n",
    "    elif row[\"A_coref\"] == True:\n",
    "        answer = \"A\"\n",
    "    else:\n",
    "        answer = \"B\"\n",
    "\n",
    "    data_list.append({\n",
    "        \"text_id\": row[\"text_id\"],  # 문장 ID\n",
    "        \"text\": row[\"text\"],  # 전체 문장\n",
    "        \"licensor\": row[\"licensor\"],  # licensor\n",
    "        \"options\": {\n",
    "            \"A\": row[\"A\"],  # 선행사 후보 A\n",
    "            \"B\": row[\"B\"]   # 선행사 후보 B\n",
    "        },\n",
    "        \"answer\": answer  # \"A\", \"B\", \"Neither\" 중 하나\n",
    "    })\n",
    "\n",
    "\n",
    "# JSON 파일로 저장\n",
    "with open(json_file_path, \"w\", encoding=\"utf-8\") as json_file:\n",
    "    json.dump(data_list, json_file, indent=4, ensure_ascii=False)\n",
    "\n",
    "print(f\"✅ JSON 변환 완료: {json_file_path}\")"
   ]
  },
  {
   "cell_type": "markdown",
   "metadata": {},
   "source": [
    "# .tsv->json\n"
   ]
  },
  {
   "cell_type": "code",
   "execution_count": null,
   "metadata": {},
   "outputs": [],
   "source": [
    "import pandas as pd\n",
    "import json\n",
    "import os\n",
    "\n",
    "# .tsv 파일 불러오기\n",
    "file_path = os.path.join(os.getcwd(), \"data\", \"gap\", \"gap-development.tsv\")\n",
    "json_file_path = os.path.join(os.getcwd(), \"preprocessing\", \"gap\", \"gap-development.json\")\n",
    "df = pd.read_csv(file_path, sep=\"\\t\", dtype=str)  # Tab-separated values (TSV)\n",
    "\n",
    "# 필요한 열만 선택 (ID, Text, Pronoun, A, A-coref, B, B-coref)\n",
    "df_selected = df[[\"ID\", \"Text\", \"Pronoun\", \"A\", \"A-coref\", \"B\", \"B-coref\"]]\n",
    "\n",
    "# JSON 형식으로 변환\n",
    "data_list = []\n",
    "for index, row in df_selected.iterrows():\n",
    "    # A-coref와 B-coref가 모두 False인 경우 \"Neither\" 저장\n",
    "    if row[\"A-coref\"] == \"FALSE\" and row[\"B-coref\"] == \"FALSE\":\n",
    "        answer = \"Neither\"\n",
    "    elif row[\"A-coref\"] == \"TRUE\":\n",
    "        answer = \"A\"\n",
    "    else:\n",
    "        answer = \"B\"\n",
    "\n",
    "    data_list.append({\n",
    "        \"text_id\": row[\"ID\"],  # 문장 ID\n",
    "        \"text\": row[\"Text\"],  # 전체 문장\n",
    "        \"pronoun\": row[\"Pronoun\"],  # 대명사\n",
    "        \"options\": {\n",
    "            \"A\": row[\"A\"],  # 선행사 후보 A\n",
    "            \"B\": row[\"B\"]   # 선행사 후보 B\n",
    "        },\n",
    "        \"answer\": answer  # \"A\", \"B\", \"Neither\" 중 하나\n",
    "    })\n",
    "\n",
    "# JSON 파일로 저장\n",
    "with open(json_file_path, \"w\", encoding=\"utf-8\") as json_file:\n",
    "    json.dump(data_list, json_file, indent=4, ensure_ascii=False)\n",
    "\n",
    "print(f\"✅ JSON 변환 완료: {json_file_path}\")\n"
   ]
  },
  {
   "cell_type": "code",
   "execution_count": null,
   "metadata": {},
   "outputs": [],
   "source": [
    "import pandas as pd\n",
    "\n",
    "# .tsv 파일 불러오기\n",
    "file_path = os.path.join(os.getcwd(),\"data\",\"gap\", \"gap-test.tsv\")\n",
    "df = pd.read_csv(file_path, sep=\"\\t\", dtype=str)  # Tab-separated values (TSV)\n",
    "\n",
    "# A-coref와 B-coref가 모두 False인 행 필터링\n",
    "false_coref_rows = df[(df[\"A-coref\"] == \"FALSE\") & (df[\"B-coref\"] == \"FALSE\")]\n",
    "\n",
    "# 결과 출력\n",
    "if not false_coref_rows.empty:\n",
    "    print(\"🔍 A-coref와 B-coref가 모두 False인 행이 존재합니다:\")\n",
    "    print(false_coref_rows)\n",
    "else:\n",
    "    print(\"✅ 모든 행에서 최소 하나의 coref 값이 True입니다.\")\n"
   ]
  },
  {
   "cell_type": "markdown",
   "metadata": {},
   "source": [
    "# JSON → Fine-tuning용 JSONL"
   ]
  },
  {
   "cell_type": "code",
   "execution_count": 5,
   "metadata": {},
   "outputs": [
    {
     "name": "stdout",
     "output_type": "stream",
     "text": [
      "✅ 데이터 변환 완료: /jsm0707/LLM_Anaphoric-One-and-NPE/preprocessing/new/train/gap-dev_npe_sft.jsonl\n"
     ]
    }
   ],
   "source": [
    "import json\n",
    "import os\n",
    "\n",
    "name=\"gap-dev_npe\"\n",
    "input_json_path=os.path.join(os.getcwd(), \"preprocessing\", \"new\", \"train\", f\"{name}.json\")\n",
    "output_jsonl_path=os.path.join(os.getcwd(), \"preprocessing\", \"new\", \"train\", f\"{name}_sft.jsonl\")\n",
    "# 데이터 로드\n",
    "with open(input_json_path, 'r', encoding='utf-8') as f:\n",
    "    data = json.load(f)\n",
    "\n",
    "# SFT 포맷 변환 (prompt와 output을 하나의 text로 합쳐 저장)\n",
    "with open(output_jsonl_path, 'w', encoding='utf-8') as f_out:\n",
    "    for item in data:\n",
    "        # 프롬프트 만들기\n",
    "        prompt = f'''Question: In the sentence \"{item[\"text\"]}\", what does \"{item[\"target\"]}\" refer to?\n",
    "Options:\n",
    "(A) {item[\"options\"][\"A\"]}\n",
    "(B) {item[\"options\"][\"B\"]}\n",
    "Answer only with \"A\" if (A) is correct, \"B\" if (B) is correct, or \"Neither\" if none are correct.\n",
    "Answer:'''\n",
    "        output = item[\"answer\"].strip().upper()  # 정답 (A, B, Neither)\n",
    "        \n",
    "        # 프롬프트와 정답을 하나로 합치기\n",
    "        combined_text = prompt.strip() + \" \" + output\n",
    "        \n",
    "        # JSONL로 저장\n",
    "        json.dump({\"text\": combined_text}, f_out, ensure_ascii=False)\n",
    "        f_out.write('\\n')  # jsonl 형식\n",
    "\n",
    "print(f\"✅ 데이터 변환 완료: {output_jsonl_path}\")"
   ]
  },
  {
   "cell_type": "markdown",
   "metadata": {},
   "source": [
    "### 1. one"
   ]
  },
  {
   "cell_type": "code",
   "execution_count": null,
   "metadata": {},
   "outputs": [],
   "source": [
    "import json\n",
    "import os\n",
    "\n",
    "name=\"Number_factor_AO_sub-corpus\"\n",
    "input_json_path=os.path.join(os.getcwd(), \"preprocessing\", \"1_one\", f\"{name}.json\")\n",
    "output_jsonl_path=os.path.join(os.getcwd(), \"preprocessing\", \"1_one\", f\"{name}_sft.jsonl\")\n",
    "# 데이터 로드\n",
    "with open(input_json_path, 'r', encoding='utf-8') as f:\n",
    "    data = json.load(f)\n",
    "\n",
    "# SFT 포맷 변환 (prompt와 output을 하나의 text로 합쳐 저장)\n",
    "with open(output_jsonl_path, 'w', encoding='utf-8') as f_out:\n",
    "    for item in data:\n",
    "        # 프롬프트 만들기\n",
    "        prompt = f'''Question: In the sentence \"{item[\"text\"]}\", what does \"{item[\"anaphor\"]}\" refer to?\n",
    "Options:\n",
    "(A) {item[\"options\"][\"A\"]}\n",
    "(B) {item[\"options\"][\"B\"]}\n",
    "Answer only with \"A\" if (A) is correct, \"B\" if (B) is correct, or \"Neither\" if none are correct.\n",
    "Answer:'''\n",
    "        output = item[\"answer\"].strip().upper()  # 정답 (A, B, Neither)\n",
    "        \n",
    "        # 프롬프트와 정답을 하나로 합치기\n",
    "        combined_text = prompt.strip() + \" \" + output\n",
    "        \n",
    "        # JSONL로 저장\n",
    "        json.dump({\"text\": combined_text}, f_out, ensure_ascii=False)\n",
    "        f_out.write('\\n')  # jsonl 형식\n",
    "\n",
    "print(f\"✅ 데이터 변환 완료: {output_jsonl_path}\")"
   ]
  },
  {
   "cell_type": "markdown",
   "metadata": {},
   "source": [
    "### 2.npe"
   ]
  },
  {
   "cell_type": "code",
   "execution_count": null,
   "metadata": {},
   "outputs": [],
   "source": [
    "import json\n",
    "import os\n",
    "\n",
    "name = \"General_NPE_corpus\"\n",
    "input_json_path=os.path.join(os.getcwd(), \"preprocessing\", \"2_npe\", f\"{name}.json\")\n",
    "output_jsonl_path=os.path.join(os.getcwd(), \"preprocessing\", \"2_npe\", f\"{name}_sft.jsonl\")\n",
    "\n",
    "# 데이터 로드\n",
    "with open(input_json_path, 'r', encoding='utf-8') as f:\n",
    "    data = json.load(f)\n",
    "\n",
    "# SFT 포맷 변환 (prompt와 output을 하나의 text로 합쳐 저장)\n",
    "with open(output_jsonl_path, 'w', encoding='utf-8') as f_out:\n",
    "    for item in data:\n",
    "        # 프롬프트 만들기\n",
    "        prompt = f'''Question: In the sentence \"{item[\"text\"]}\", what does \"{item[\"licensor\"]}\" refer to?\n",
    "Options:\n",
    "(A) {item[\"options\"][\"A\"]}\n",
    "(B) {item[\"options\"][\"B\"]}\n",
    "Answer only with \"A\" if (A) is correct, \"B\" if (B) is correct, or \"Neither\" if none are correct.\n",
    "Answer:'''\n",
    "        output = item[\"answer\"].strip().upper()  # 정답 (A, B, Neither)\n",
    "        \n",
    "        # 프롬프트와 정답을 하나로 합치기\n",
    "        combined_text = prompt.strip() + \" \" + output\n",
    "        \n",
    "        # JSONL로 저장\n",
    "        json.dump({\"text\": combined_text}, f_out, ensure_ascii=False)\n",
    "        f_out.write('\\n')  # jsonl 형식\n",
    "\n",
    "print(f\"✅ 데이터 변환 완료: {output_jsonl_path}\")\n"
   ]
  },
  {
   "cell_type": "markdown",
   "metadata": {},
   "source": [
    "## gap"
   ]
  },
  {
   "cell_type": "code",
   "execution_count": null,
   "metadata": {},
   "outputs": [],
   "source": [
    "import json\n",
    "import os\n",
    "\n",
    "name = \"gap-test\"\n",
    "input_json_path = os.path.join(os.getcwd(), \"preprocessing\", \"gap\", f\"{name}.json\")\n",
    "output_jsonl_path = os.path.join(os.getcwd(), \"preprocessing\", \"gap\", f\"{name}_sft.jsonl\")  # 최종 파일명도 _ready로\n",
    "\n",
    "# 데이터 로드\n",
    "with open(input_json_path, 'r', encoding='utf-8') as f:\n",
    "    data = json.load(f)\n",
    "\n",
    "# SFT 포맷 변환 (prompt와 output을 하나의 text로 합쳐 저장)\n",
    "with open(output_jsonl_path, 'w', encoding='utf-8') as f_out:\n",
    "    for item in data:\n",
    "        # 프롬프트 만들기\n",
    "        prompt = f'''Question: In the sentence \"{item[\"text\"]}\", who does \"{item[\"pronoun\"]}\" refer to?\n",
    "Options:\n",
    "(A) {item[\"options\"][\"A\"]}\n",
    "(B) {item[\"options\"][\"B\"]}\n",
    "Answer only with \"A\" if (A) is correct, \"B\" if (B) is correct, or \"Neither\" if none are correct.\n",
    "Answer:'''\n",
    "        output = item[\"answer\"].strip().upper()  # 정답 (A, B, Neither)\n",
    "        \n",
    "        # 프롬프트와 정답을 하나로 합치기\n",
    "        combined_text = prompt.strip() + \" \" + output\n",
    "        \n",
    "        # JSONL로 저장\n",
    "        json.dump({\"text\": combined_text}, f_out, ensure_ascii=False)\n",
    "        f_out.write('\\n')  # jsonl 형식\n",
    "\n",
    "print(f\"✅ 데이터 변환 완료: {output_jsonl_path}\")\n"
   ]
  },
  {
   "cell_type": "markdown",
   "metadata": {},
   "source": [
    "# WSC -> .json"
   ]
  },
  {
   "cell_type": "code",
   "execution_count": 1,
   "metadata": {},
   "outputs": [
    {
     "name": "stdout",
     "output_type": "stream",
     "text": [
      "✅ 변환 완료: /jsm0707/LLM_Anaphoric-One-and-NPE/preprocessing/wsc/wsc.json\n"
     ]
    }
   ],
   "source": [
    "import json\n",
    "import os\n",
    "\n",
    "# 입력 .txt 파일과 출력 .json 파일 경로\n",
    "input_txt_path = os.path.join(os.getcwd(), \"data\", \"wsc273.txt\")  # WSC 원본 .txt 경로\n",
    "output_json_path = os.path.join(os.getcwd(), \"preprocessing\", \"wsc\", \"wsc.json\")  # 변환된 .jsonl 저장 경로\n",
    "\n",
    "data = []\n",
    "with open(input_txt_path, 'r', encoding='utf-8') as f:\n",
    "    lines = [line.strip() for line in f if line.strip()]  # 빈 줄 제거 및 앞뒤 공백 제거\n",
    "\n",
    "# 4줄씩 하나의 샘플로 구성\n",
    "for i in range(0, len(lines), 4):\n",
    "    text = lines[i]  # 문장\n",
    "    mask = lines[i+1]  # [MASK] (사용 안 할 수도 있지만 형식상 포함)\n",
    "    candidates_line = lines[i+2]  # 후보\n",
    "    answer_line = lines[i+3]  # 정답\n",
    "\n",
    "    # 후보 분리\n",
    "    candidates = [c.strip() for c in candidates_line.split(\",\")]\n",
    "    assert len(candidates) == 2, f\"후보는 반드시 2개여야 합니다. 확인 필요: {candidates}\"\n",
    "\n",
    "    # 정답이 후보 중 어디인지 찾아서 'A' 또는 'B'로\n",
    "    if answer_line.strip() == candidates[0]:\n",
    "        answer = \"A\"\n",
    "    elif answer_line.strip() == candidates[1]:\n",
    "        answer = \"B\"\n",
    "    else:\n",
    "        raise ValueError(f\"정답이 후보에 없습니다. 정답: {answer_line}, 후보: {candidates}\")\n",
    "\n",
    "    # 하나의 샘플 딕셔너리로 변환\n",
    "    item = {\n",
    "        \"text_id\": f\"wsc-{i//4 + 1}\",\n",
    "        \"text\": text,\n",
    "        \"MASK\": \"[MASK]\",  # 고정값\n",
    "        \"options\": {\n",
    "            \"A\": candidates[0],\n",
    "            \"B\": candidates[1]\n",
    "        },\n",
    "        \"answer\": answer\n",
    "    }\n",
    "\n",
    "    data.append(item)\n",
    "\n",
    "# JSON 파일로 저장\n",
    "with open(output_json_path, 'w', encoding='utf-8') as f_out:\n",
    "    json.dump(data, f_out, ensure_ascii=False, indent=4)\n",
    "\n",
    "print(f\"✅ 변환 완료: {output_json_path}\")\n"
   ]
  },
  {
   "cell_type": "markdown",
   "metadata": {},
   "source": [
    "# GPT형식\n"
   ]
  },
  {
   "cell_type": "code",
   "execution_count": 3,
   "metadata": {},
   "outputs": [
    {
     "name": "stdout",
     "output_type": "stream",
     "text": [
      "✅ 데이터 변환 완료. 저장 위치: /jsm0707/LLM_Anaphoric-One-and-NPE/preprocessing/new/train/gap-dev_npe_finetune.jsonl\n"
     ]
    }
   ],
   "source": [
    "import json\n",
    "import os\n",
    "\n",
    "# 원본 데이터 불러오기\n",
    "with open('./preprocessing/new/train/gap-dev_npe.json', 'r', encoding='utf-8') as f:\n",
    "    data = json.load(f)\n",
    "\n",
    "# GPT 학습용 데이터 저장 파일\n",
    "output_file = os.path.join(os.getcwd(), \"preprocessing\", \"new\", \"train\",\"gap-dev_npe_finetune.jsonl\")  # 변환된 .jsonl 저장 경로\n",
    "\n",
    "\n",
    "# JSONL 파일로 변환\n",
    "with open(output_file, 'w', encoding='utf-8') as f:\n",
    "    for item in data:\n",
    "        prompt = f'''Question: In the sentence \"{item[\"text\"]}\", what does \"{item[\"target\"]}\" refer to?\n",
    "Options:\n",
    "(A) {item[\"options\"][\"A\"]}\n",
    "(B) {item[\"options\"][\"B\"]}\n",
    "\n",
    "Answer only with \"A\" if (A) is correct, \"B\" if (B) is correct, or \"Neither\" if none of them are correct. Do not provide explanations.\n",
    "Answer:'''\n",
    "        \n",
    "        # message 포맷 구성\n",
    "        messages = [\n",
    "            {\"role\": \"system\", \"content\": \"You are a helpful assistant.\"},\n",
    "            {\"role\": \"user\", \"content\": prompt},\n",
    "            {\"role\": \"assistant\", \"content\": item[\"answer\"]}\n",
    "        ]\n",
    "        \n",
    "        # 한 줄에 하나의 대화\n",
    "        json.dump({\"messages\": messages}, f, ensure_ascii=False)\n",
    "        f.write(\"\\n\")\n",
    "\n",
    "print(f\"✅ 데이터 변환 완료. 저장 위치: {output_file}\")"
   ]
  },
  {
   "cell_type": "markdown",
   "metadata": {},
   "source": [
    "### one"
   ]
  },
  {
   "cell_type": "code",
   "execution_count": null,
   "metadata": {},
   "outputs": [
    {
     "name": "stdout",
     "output_type": "stream",
     "text": [
      "✅ 데이터 변환 완료. 저장 위치: /jsm0707/LLM_Anaphoric-One-and-NPE/preprocessing/1_one/General_AO_corpus_finetune.jsonl\n"
     ]
    }
   ],
   "source": [
    "# import json\n",
    "\n",
    "# # 원본 데이터 불러오기\n",
    "# with open('./preprocessing/1_one/General_AO_corpus.json', 'r', encoding='utf-8') as f:\n",
    "#     data = json.load(f)\n",
    "\n",
    "# # GPT 학습용 데이터 저장 파일\n",
    "# output_file = os.path.join(os.getcwd(), \"preprocessing\", \"1_one\", \"General_AO_corpus_finetune.jsonl\")  # 변환된 .jsonl 저장 경로\n",
    "\n",
    "\n",
    "# # JSONL 파일로 변환\n",
    "# with open(output_file, 'w', encoding='utf-8') as f:\n",
    "#     for item in data:\n",
    "#         prompt = f'''Question: In the sentence \"{item[\"text\"]}\", what does \"{item[\"anaphor\"]}\" refer to?\n",
    "# Options:\n",
    "# (A) {item[\"options\"][\"A\"]}\n",
    "# (B) {item[\"options\"][\"B\"]}\n",
    "\n",
    "# Answer only with \"A\" if (A) is correct, \"B\" if (B) is correct, or \"Neither\" if none of them are correct. Do not provide explanations.\n",
    "# Answer:'''\n",
    "        \n",
    "#         # message 포맷 구성\n",
    "#         messages = [\n",
    "#             {\"role\": \"system\", \"content\": \"You are a helpful assistant.\"},\n",
    "#             {\"role\": \"user\", \"content\": prompt},\n",
    "#             {\"role\": \"assistant\", \"content\": item[\"answer\"]}\n",
    "#         ]\n",
    "        \n",
    "#         # 한 줄에 하나의 대화\n",
    "#         json.dump({\"messages\": messages}, f, ensure_ascii=False)\n",
    "#         f.write(\"\\n\")\n",
    "\n",
    "# print(f\"✅ 데이터 변환 완료. 저장 위치: {output_file}\")\n",
    "\n",
    "\n",
    "\n",
    "\n"
   ]
  },
  {
   "cell_type": "markdown",
   "metadata": {},
   "source": [
    "### npe"
   ]
  },
  {
   "cell_type": "code",
   "execution_count": 4,
   "metadata": {},
   "outputs": [
    {
     "name": "stdout",
     "output_type": "stream",
     "text": [
      "✅ 데이터 변환 완료. 저장 위치: /jsm0707/LLM_Anaphoric-One-and-NPE/preprocessing/2_npe/General_NPE_corpus.jsonl\n"
     ]
    }
   ],
   "source": [
    "import json\n",
    "\n",
    "# 원본 데이터 불러오기\n",
    "with open('./preprocessing/2_npe/General_NPE_corpus.json', 'r', encoding='utf-8') as f:\n",
    "    data = json.load(f)\n",
    "\n",
    "# GPT 학습용 데이터 저장 파일\n",
    "output_file = os.path.join(os.getcwd(), \"preprocessing\", \"2_npe\", \"General_NPE_corpus.jsonl\")  # 변환된 .jsonl 저장 경로\n",
    "\n",
    "\n",
    "# JSONL 파일로 변환\n",
    "with open(output_file, 'w', encoding='utf-8') as f:\n",
    "    for item in data:\n",
    "        prompt = f'''Question: In the sentence \"{item[\"text\"]}\", what does \"{item[\"licensor\"]}\" refer to?\n",
    "Options:\n",
    "(A) {item[\"options\"][\"A\"]}\n",
    "(B) {item[\"options\"][\"B\"]}\n",
    "\n",
    "Answer only with \"A\" if (A) is correct, \"B\" if (B) is correct, or \"Neither\" if none of them are correct. Do not provide explanations.\n",
    "Answer:'''\n",
    "        \n",
    "        # message 포맷 구성\n",
    "        messages = [\n",
    "            {\"role\": \"system\", \"content\": \"You are a helpful assistant.\"},\n",
    "            {\"role\": \"user\", \"content\": prompt},\n",
    "            {\"role\": \"assistant\", \"content\": item[\"answer\"]}\n",
    "        ]\n",
    "        \n",
    "        # 한 줄에 하나의 대화\n",
    "        json.dump({\"messages\": messages}, f, ensure_ascii=False)\n",
    "        f.write(\"\\n\")\n",
    "\n",
    "print(f\"✅ 데이터 변환 완료. 저장 위치: {output_file}\")\n"
   ]
  },
  {
   "cell_type": "markdown",
   "metadata": {},
   "source": [
    "### gap"
   ]
  },
  {
   "cell_type": "code",
   "execution_count": 2,
   "metadata": {},
   "outputs": [
    {
     "name": "stdout",
     "output_type": "stream",
     "text": [
      "✅ 데이터 변환 완료. 저장 위치: /jsm0707/LLM_Anaphoric-One-and-NPE/preprocessing/gap/gap-validation_finetune.jsonl\n"
     ]
    }
   ],
   "source": [
    "import json\n",
    "import os\n",
    "\n",
    "# 원본 데이터 불러오기\n",
    "with open('./preprocessing/gap/gap-validation.json', 'r', encoding='utf-8') as f:\n",
    "    data = json.load(f)\n",
    "\n",
    "# GPT 학습용 데이터 저장 파일\n",
    "output_file = os.path.join(os.getcwd(), \"preprocessing\", \"gap\", \"gap-validation_finetune.jsonl\")  # 변환된 .jsonl 저장 경로\n",
    "\n",
    "\n",
    "# JSONL 파일로 변환\n",
    "with open(output_file, 'w', encoding='utf-8') as f:\n",
    "    for item in data:\n",
    "        prompt = f'''Question: In the sentence \"{item[\"text\"]}\", who does \"{item[\"pronoun\"]}\" refer to?\n",
    "Options:\n",
    "(A) {item[\"options\"][\"A\"]}\n",
    "(B) {item[\"options\"][\"B\"]}\n",
    "\n",
    "Answer only with \"A\" if (A) is correct, \"B\" if (B) is correct, or \"Neither\" if none of them are correct. Do not provide explanations.\n",
    "Answer:'''\n",
    "        \n",
    "        # message 포맷 구성\n",
    "        messages = [\n",
    "            {\"role\": \"system\", \"content\": \"You are a helpful assistant.\"},\n",
    "            {\"role\": \"user\", \"content\": prompt},\n",
    "            {\"role\": \"assistant\", \"content\": item[\"answer\"]}\n",
    "        ]\n",
    "        \n",
    "        # 한 줄에 하나의 대화\n",
    "        json.dump({\"messages\": messages}, f, ensure_ascii=False)\n",
    "        f.write(\"\\n\")\n",
    "\n",
    "print(f\"✅ 데이터 변환 완료. 저장 위치: {output_file}\")\n"
   ]
  }
 ],
 "metadata": {
  "kernelspec": {
   "display_name": "base",
   "language": "python",
   "name": "python3"
  },
  "language_info": {
   "codemirror_mode": {
    "name": "ipython",
    "version": 3
   },
   "file_extension": ".py",
   "mimetype": "text/x-python",
   "name": "python",
   "nbconvert_exporter": "python",
   "pygments_lexer": "ipython3",
   "version": "3.10.14"
  }
 },
 "nbformat": 4,
 "nbformat_minor": 2
}
